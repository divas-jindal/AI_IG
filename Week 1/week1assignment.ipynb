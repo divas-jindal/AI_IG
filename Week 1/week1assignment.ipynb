{
  "nbformat": 4,
  "nbformat_minor": 0,
  "metadata": {
    "colab": {
      "name": "Copy of week1assignment.ipynb",
      "provenance": [],
      "include_colab_link": true
    },
    "kernelspec": {
      "name": "python3",
      "display_name": "Python 3"
    }
  },
  "cells": [
    {
      "cell_type": "markdown",
      "metadata": {
        "id": "view-in-github",
        "colab_type": "text"
      },
      "source": [
        "<a href=\"https://colab.research.google.com/github/divas-jindal/AI_IG/blob/master/Week%201/week1assignment.ipynb\" target=\"_parent\"><img src=\"https://colab.research.google.com/assets/colab-badge.svg\" alt=\"Open In Colab\"/></a>"
      ]
    },
    {
      "cell_type": "code",
      "metadata": {
        "id": "F-6bE0dYcBgA",
        "colab_type": "code",
        "colab": {}
      },
      "source": [
        "## Import stuff\n",
        " \n",
        "import numpy as np\n",
        "from sklearn import datasets, linear_model, metrics"
      ],
      "execution_count": 0,
      "outputs": []
    },
    {
      "cell_type": "code",
      "metadata": {
        "id": "gK71NIhMcEs5",
        "colab_type": "code",
        "colab": {}
      },
      "source": [
        "## Load the diabetes dataset\n",
        "diabetes = datasets.load_diabetes()\n",
        "diabetes_X = diabetes.data # matrix of dimensions 442x10\n",
        " \n",
        "# Split the data into training/testing sets\n",
        "diabetes_X_train = diabetes_X[:-20]\n",
        "diabetes_X_test = diabetes_X[-20:]\n",
        " \n",
        "# Split the targets into training/testing sets\n",
        "diabetes_y_train = diabetes.target[:-20]\n",
        "diabetes_y_test = diabetes.target[-20:]\n",
        "\n",
        "def mean_error(y,H):\n",
        "  return ((y-H)**2).sum()/y.shape[0]"
      ],
      "execution_count": 0,
      "outputs": []
    },
    {
      "cell_type": "code",
      "metadata": {
        "id": "XJTg22ybcHsl",
        "colab_type": "code",
        "colab": {
          "base_uri": "https://localhost:8080/",
          "height": 369
        },
        "outputId": "5c7acdb1-9536-4b94-be47-b07cf5af5eab"
      },
      "source": [
        "# train\n",
        "X = diabetes_X_train\n",
        "y = diabetes_y_train\n",
        " \n",
        "# train: init\n",
        "W = np.random.random(X.shape[1])\n",
        "b = np.random.random(1)\n",
        "\n",
        "learning_rate = 0.0001\n",
        "epochs = 100000\n",
        "\n",
        "# train: gradient descent\n",
        "for i in range(epochs):\n",
        "    # calculate predictions\n",
        "    H = np.dot(X,W) + b \n",
        " \n",
        "    # calculate error and cost (mean squared error)\n",
        "    mean_squared_error = mean_error(y,H)\n",
        " \n",
        "    # calculate gradients\n",
        "    gW = np.dot(X.T, y-H)\n",
        "    gb = (y-H).sum()\n",
        " \n",
        "    # update parameters\n",
        "    W = W + learning_rate*gW\n",
        "    b = b + learning_rate*gb\n",
        " \n",
        "    # diagnostic output\n",
        "    if i % 5000 == 0: print(\"Epoch %d: %f\" % (i, mean_squared_error))"
      ],
      "execution_count": 27,
      "outputs": [
        {
          "output_type": "stream",
          "text": [
            "Epoch 0: 29254.010147\n",
            "Epoch 5000: 3407.111522\n",
            "Epoch 10000: 3098.186648\n",
            "Epoch 15000: 2995.293944\n",
            "Epoch 20000: 2954.988511\n",
            "Epoch 25000: 2938.328895\n",
            "Epoch 30000: 2931.069351\n",
            "Epoch 35000: 2927.698636\n",
            "Epoch 40000: 2926.003895\n",
            "Epoch 45000: 2925.063596\n",
            "Epoch 50000: 2924.478993\n",
            "Epoch 55000: 2924.070369\n",
            "Epoch 60000: 2923.753195\n",
            "Epoch 65000: 2923.485969\n",
            "Epoch 70000: 2923.247451\n",
            "Epoch 75000: 2923.026351\n",
            "Epoch 80000: 2922.816462\n",
            "Epoch 85000: 2922.614266\n",
            "Epoch 90000: 2922.417712\n",
            "Epoch 95000: 2922.225571\n"
          ],
          "name": "stdout"
        }
      ]
    },
    {
      "cell_type": "code",
      "metadata": {
        "id": "uvSdTn-0cKJL",
        "colab_type": "code",
        "colab": {
          "base_uri": "https://localhost:8080/",
          "height": 125
        },
        "outputId": "348b91f3-9969-4690-8646-6102e770093e"
      },
      "source": [
        "# test\n",
        "X = diabetes_X_test\n",
        "y = diabetes_y_test\n",
        " \n",
        "# calculate predictions + calculate error and cost (same code as above)\n",
        "H = np.dot(X,W) + b\n",
        "print('Coefficients: \\n', W)\n",
        "print(\"Mean squared error: %.2f\" % mean_squared_error)\n",
        "print(\"=\"*120)"
      ],
      "execution_count": 28,
      "outputs": [
        {
          "output_type": "stream",
          "text": [
            "Coefficients: \n",
            " [   4.20456134 -234.62604262  520.99926271  325.8436656   -99.25604477\n",
            "  -85.65884801 -204.74596289  114.73142917  468.72266816   79.92672977]\n",
            "Mean squared error: 2922.04\n",
            "========================================================================================================================\n"
          ],
          "name": "stdout"
        }
      ]
    },
    {
      "cell_type": "code",
      "metadata": {
        "id": "bRWMTY1fT0w2",
        "colab_type": "code",
        "colab": {}
      },
      "source": [
        ""
      ],
      "execution_count": 0,
      "outputs": []
    }
  ]
}