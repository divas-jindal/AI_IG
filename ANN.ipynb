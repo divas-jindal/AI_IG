{
  "nbformat": 4,
  "nbformat_minor": 0,
  "metadata": {
    "kernelspec": {
      "display_name": "Python 3",
      "language": "python",
      "name": "python3"
    },
    "language_info": {
      "codemirror_mode": {
        "name": "ipython",
        "version": 3
      },
      "file_extension": ".py",
      "mimetype": "text/x-python",
      "name": "python",
      "nbconvert_exporter": "python",
      "pygments_lexer": "ipython3",
      "version": "3.8.1"
    },
    "colab": {
      "name": "ANN.ipynb",
      "provenance": [],
      "toc_visible": true,
      "include_colab_link": true
    }
  },
  "cells": [
    {
      "cell_type": "markdown",
      "metadata": {
        "id": "view-in-github",
        "colab_type": "text"
      },
      "source": [
        "<a href=\"https://colab.research.google.com/github/divas-jindal/AI_IG/blob/master/ANN.ipynb\" target=\"_parent\"><img src=\"https://colab.research.google.com/assets/colab-badge.svg\" alt=\"Open In Colab\"/></a>"
      ]
    },
    {
      "cell_type": "markdown",
      "metadata": {
        "id": "dNLTdDhr_W2f"
      },
      "source": [
        "# Assignment 3 - Feed Forward Neural Network\n",
        "###### Author: Divas Jindal - 177117"
      ]
    },
    {
      "cell_type": "code",
      "metadata": {
        "id": "WmnCPVRb_W2h"
      },
      "source": [
        "# import statements\n",
        "import numpy as np \n",
        "import pandas as pd \n",
        "import matplotlib.pyplot as plt \n",
        "from tqdm import tqdm"
      ],
      "execution_count": 1,
      "outputs": []
    },
    {
      "cell_type": "markdown",
      "metadata": {
        "id": "8n7ZMwN2_W2m"
      },
      "source": [
        "### 1. Making Network"
      ]
    },
    {
      "cell_type": "markdown",
      "metadata": {
        "id": "3FNu5Tu2_W2m"
      },
      "source": [
        "###### Activation Function"
      ]
    },
    {
      "cell_type": "code",
      "metadata": {
        "id": "w5s5zrGM_W2n"
      },
      "source": [
        "def sigmoid(x):\n",
        "    return 1 / (1 + np.exp(-x))"
      ],
      "execution_count": 2,
      "outputs": []
    },
    {
      "cell_type": "markdown",
      "metadata": {
        "id": "Cgs4QCNC_W2r"
      },
      "source": [
        "###### Prediction Function"
      ]
    },
    {
      "cell_type": "code",
      "metadata": {
        "id": "GKrOJxld_W2s"
      },
      "source": [
        "def predict(X, y, w1, w2, verbose=True, bias=True, show_all=False):\n",
        "    y_pred = [] \n",
        "    \n",
        "    # run through the network \n",
        "    for x in X:\n",
        "        h = sigmoid(x.dot(w1.T))\n",
        "        if (bias):\n",
        "            temp_h = np.append(np.ones(1), h) # we dont want to add a bias term to h itself\n",
        "        else:\n",
        "            temp_h = h\n",
        "        o = sigmoid(temp_h.dot(w2.T))\n",
        "        y_pred.append(o)\n",
        "        \n",
        "    # convert Y and Y_pred back from OH\n",
        "    y = np.argmax(y, axis=1)\n",
        "    y_pred = np.argmax(y_pred, axis=1)\n",
        "                \n",
        "    if show_all:\n",
        "        for idx,x in enumerate(X):\n",
        "            print(f\"Predicted => {y_pred[idx]}, Actual => {y[idx]}\")\n",
        "            plt.imshow(x.reshape(28,28))\n",
        "            plt.show()\n",
        "    \n",
        "    # calculate and return accuracy\n",
        "    accuracy = np.mean(y_pred==y)\n",
        "    if (verbose):\n",
        "        print(f\"Accuracy => {accuracy*100}\")\n",
        "    return accuracy"
      ],
      "execution_count": 5,
      "outputs": []
    },
    {
      "cell_type": "markdown",
      "metadata": {
        "id": "p5lPPbjq_W2v"
      },
      "source": [
        "###### Backprop Training Function"
      ]
    },
    {
      "cell_type": "code",
      "metadata": {
        "id": "-B12PfKV_W2w"
      },
      "source": [
        "def backprop(X, Y, n_hid, lr = 0.2,w_init=None,w_scale=1,n_iters=1, batch=False,bias=True):\n",
        "    if bias:\n",
        "        # append ones col to X\n",
        "        ones_col = np.ones((X.shape[0],1))\n",
        "        X = np.concatenate((ones_col,X), axis=1)\n",
        "    \n",
        "    bias_int = 1 if bias else 0 # add 1 to weigt dimension if bias is needed\n",
        "    \n",
        "    # create weights\n",
        "    if w_init is not None:\n",
        "        w1 = np.ones((n_hid,X.shape[1])) * w_init\n",
        "        w2 = np.ones((Y.shape[1],n_hid+bias_int)) * w_init\n",
        "    else:\n",
        "        w1 = np.random.uniform(size=(n_hid,X.shape[1])) / w_scale\n",
        "        w2 = np.random.uniform(size=(Y.shape[1],n_hid+bias_int)) / w_scale\n",
        "            \n",
        "    history_w1 = [] \n",
        "    history_w2 = []\n",
        "    accuracies = []\n",
        "    \n",
        "    # loop over number of iterations\n",
        "    for i in tqdm(range(n_iters)):\n",
        "        \n",
        "        # for each training example \n",
        "        for idx, (x,y) in enumerate(zip(X,Y)):\n",
        "            ### FORWARD PASS\n",
        "            h = sigmoid(x.dot(w1.T))\n",
        "            if bias:\n",
        "                temp_h = np.append(np.ones(1), h) # becuase we dont want to add a bias term to h itself\n",
        "            else:\n",
        "                temp_h = h\n",
        "            o = sigmoid(temp_h.dot(w2.T))\n",
        "            \n",
        "            ### BACKWARD PASS\n",
        "            do = o*(1-o)*(y-o)\n",
        "            dh = h * (1-h) * do.dot(w2[:,bias_int:]) # skip bias dim if it exists\n",
        "            \n",
        "            ### WEIGHT CHANGES\n",
        "            dw2 = lr * do.reshape(-1,1) * temp_h\n",
        "            dw1 = lr * dh.reshape(-1,1) *(x) \n",
        "\n",
        "            if batch == True:\n",
        "                history_w1.append(dw1)\n",
        "                history_w2.append(dw2)\n",
        "            \n",
        "            else:\n",
        "                w2 += dw2\n",
        "                w1 += dw1\n",
        "                \n",
        "        if batch is True:\n",
        "            w2 += sum(history_w2)\n",
        "            w1 += sum(history_w1)\n",
        "\n",
        "        # Check accuracy while training\n",
        "        accuracies.append(predict(X,Y,w1,w2,verbose=False,bias=bias))\n",
        "        \n",
        "    return w1, w2, accuracies"
      ],
      "execution_count": 6,
      "outputs": []
    },
    {
      "cell_type": "markdown",
      "metadata": {
        "id": "6aJ79aJe_W21"
      },
      "source": [
        "###### XOR:"
      ]
    },
    {
      "cell_type": "code",
      "metadata": {
        "id": "6RsME5jn_W21",
        "outputId": "2c0c2da2-b0b2-45a7-e903-ec8d4e248d17",
        "colab": {
          "base_uri": "https://localhost:8080/",
          "height": 380
        }
      },
      "source": [
        "w_init = None                 # number of hidden units\n",
        "w_scale = 1                  # value to divide the w values with\n",
        "n_hid = 2                    # number of hidden units\n",
        "lr = 0.01                     # learning rate\n",
        "n_iters = 1000                  # number of iterations / epochs\n",
        "batch = False                 # if true, algo uses batch update.\n",
        "TT = np.asarray([[0,0,0],    # Truth table\n",
        "                [0,1,1], \n",
        "                [1,0,1],\n",
        "                [1,1,0]])\n",
        "\n",
        "# get X and y\n",
        "X = TT[:,:2]\n",
        "y = TT[:,2:]\n",
        "\n",
        "# convert y to one hot encoding \n",
        "y_OH = np.zeros((y.size, y.max()+1))\n",
        "y_OH[np.arange(y.size),y.reshape(-1)] = 1\n",
        "\n",
        "# call backprop function\n",
        "w1,w2,accuracies = backprop(X,y_OH,n_hid,lr,w_init,w_scale,n_iters,batch)\n",
        "\n",
        "# print highest accuracy and display history\n",
        "epochs = np.arange(1, len(accuracies)+1)\n",
        "plt.plot(epochs, accuracies, c='purple')\n",
        "plt.title('Accuracy History')\n",
        "plt.xlabel('Iterations')\n",
        "plt.show()\n",
        "print(f\"Highest accuracy => {max(accuracies)}\")\n",
        "print(w1,w2)"
      ],
      "execution_count": 7,
      "outputs": [
        {
          "output_type": "stream",
          "text": [
            "100%|██████████| 1000/1000 [00:00<00:00, 3531.28it/s]\n"
          ],
          "name": "stderr"
        },
        {
          "output_type": "display_data",
          "data": {
            "image/png": "[encoded data removed]",
            "text/plain": [
              "<Figure size 432x288 with 1 Axes>"
            ]
          },
          "metadata": {
            "tags": [],
            "needs_background": "light"
          }
        },
        {
          "output_type": "stream",
          "text": [
            "Highest accuracy => 0.75\n",
            "[[0.29874642 0.71455761 0.8677047 ]\n",
            " [0.02028943 0.88018864 0.45632475]] [[ 0.10294202 -0.32066003  0.20035247]\n",
            " [-0.08435525  0.06591629  0.08870135]]\n"
          ],
          "name": "stdout"
        }
      ]
    },
    {
      "cell_type": "markdown",
      "metadata": {
        "id": "WF_c8UaI_W25"
      },
      "source": [
        "### 2. Handwritten digit recognition"
      ]
    },
    {
      "cell_type": "markdown",
      "metadata": {
        "id": "aRfOYcRm_W25"
      },
      "source": [
        "###### Get digits from MNIST Dataset "
      ]
    },
    {
      "cell_type": "code",
      "metadata": {
        "scrolled": true,
        "id": "Rof1cgba_W26",
        "outputId": "fddd5b7e-4400-489d-b27f-8fc79143cb49",
        "colab": {
          "base_uri": "https://localhost:8080/"
        }
      },
      "source": [
        "from tensorflow.python.keras.datasets import mnist\n",
        "(X_train, Y_train), (X_test, Y_test) = mnist.load_data()\n",
        "\n",
        "# reduce sizes\n",
        "num_train = 1000\n",
        "num_test = 100\n",
        "\n",
        "X_train = X_train[:num_train]\n",
        "Y_train = Y_train[:num_train]\n",
        "X_test = X_test[:num_test]\n",
        "Y_test = Y_test[:num_test]\n",
        "\n",
        "# Convert y vectors to one hot \n",
        "Y_train_OH = np.zeros((Y_train.size, Y_train.max()+1))\n",
        "Y_train_OH[np.arange(Y_train.size),Y_train] = 1\n",
        "\n",
        "Y_test_OH = np.zeros((Y_test.size, Y_test.max()+1))\n",
        "Y_test_OH[np.arange(Y_test.size),Y_test] = 1\n",
        "\n",
        "# flatten X and bring into [0,1] range\n",
        "X_train = X_train.reshape(X_train.shape[0],-1) / 255\n",
        "X_test = X_test.reshape(X_test.shape[0],-1) / 255"
      ],
      "execution_count": 8,
      "outputs": [
        {
          "output_type": "stream",
          "text": [
            "Downloading data from https://storage.googleapis.com/tensorflow/tf-keras-datasets/mnist.npz\n",
            "11493376/11490434 [==============================] - 0s 0us/step\n"
          ],
          "name": "stdout"
        }
      ]
    },
    {
      "cell_type": "code",
      "metadata": {
        "scrolled": false,
        "id": "be8p7TMs_W3A",
        "outputId": "17822787-93c3-491c-9019-440d8fcf2897",
        "colab": {
          "base_uri": "https://localhost:8080/",
          "height": 346
        }
      },
      "source": [
        "w_init = None                 # number of hidden units\n",
        "w_scale = 10                  # value to divide the random w values with\n",
        "n_hid = 100                    # number of hidden units\n",
        "lr = 0.01                     # learning rate\n",
        "n_iters = 1000                  # number of iterations / epochs\n",
        "batch = False                   # if true, algo uses batch update.\n",
        "bias = False                   # dont add bias dimension\n",
        "\n",
        "# call backprop function to train\n",
        "w1,w2,accuracies = backprop(X_train,Y_train_OH,n_hid,lr,w_init,w_scale,n_iters,batch,bias)\n",
        "\n",
        "# print highest accuracy and display history\n",
        "epochs = np.arange(1, len(accuracies)+1)\n",
        "plt.plot(epochs, accuracies, c='purple')\n",
        "plt.title('Train Accuracy History')\n",
        "plt.xlabel('Iterations')\n",
        "plt.show()\n",
        "print(f\"Highest Train accuracy => {max(accuracies)}\")\n",
        "\n",
        "# test\n",
        "test_acc = predict(X_test,Y_test_OH,w1,w2,bias=False,verbose=False,show_all=False)\n",
        "print(f\"Test Accuracy => {test_acc}\")"
      ],
      "execution_count": 9,
      "outputs": [
        {
          "output_type": "stream",
          "text": [
            "100%|██████████| 1000/1000 [06:59<00:00,  2.39it/s]\n"
          ],
          "name": "stderr"
        },
        {
          "output_type": "display_data",
          "data": {
            "image/png": "[encoded data removed]",
            "text/plain": [
              "<Figure size 432x288 with 1 Axes>"
            ]
          },
          "metadata": {
            "tags": [],
            "needs_background": "light"
          }
        },
        {
          "output_type": "stream",
          "text": [
            "Highest Train accuracy => 0.991\n",
            "Test Accuracy => 0.85\n"
          ],
          "name": "stdout"
        }
      ]
    },
    {
      "cell_type": "markdown",
      "metadata": {
        "id": "IADFmp-0_W3D"
      },
      "source": [
        "### 3. Handwritten Character Recognition"
      ]
    },
    {
      "cell_type": "markdown",
      "metadata": {
        "id": "aHDVMQsS_W3D"
      },
      "source": [
        "###### Get letters from EMNIST Dataset "
      ]
    },
    {
      "cell_type": "code",
      "metadata": {
        "scrolled": true,
        "id": "dyqRAGLa_W3E"
      },
      "source": [
        "# use pandas to read and convert to numpy\n",
        "train = pd.read_csv(\"emnist_letters_train_dataset.csv\").to_numpy()\n",
        "test = pd.read_csv(\"emnist_letters_test_dataset.csv\").to_numpy()\n",
        "\n",
        "# extract the Xs and Ys\n",
        "Y_train = train[:,0]\n",
        "X_train = train[:,1:]\n",
        "Y_test = test[:,0]\n",
        "X_test = test[:,1:]\n",
        "\n",
        "# reduce sizes\n",
        "num_train = 5000\n",
        "num_test = 500\n",
        "\n",
        "X_train = X_train[:num_train]\n",
        "Y_train = Y_train[:num_train]\n",
        "X_test = X_test[:num_test]\n",
        "Y_test = Y_test[:num_test]\n",
        "\n",
        "# Convert y vectors to one hot vectors\n",
        "Y_train_OH = np.zeros((Y_train.size, Y_train.max()+1))\n",
        "Y_train_OH[np.arange(Y_train.size),Y_train] = 1\n",
        "\n",
        "Y_test_OH = np.zeros((Y_test.size, Y_test.max()+1))\n",
        "Y_test_OH[np.arange(Y_test.size),Y_test] = 1\n",
        "\n",
        "# flatten X and bring into [0,1] range\n",
        "X_train = X_train.reshape(X_train.shape[0],-1) / 255\n",
        "X_test = X_test.reshape(X_test.shape[0],-1) / 255"
      ],
      "execution_count": 10,
      "outputs": []
    },
    {
      "cell_type": "code",
      "metadata": {
        "scrolled": false,
        "id": "RZ1VkwEQ_W3H",
        "outputId": "b10180a9-69aa-4195-8857-a270eac2a42d",
        "colab": {
          "base_uri": "https://localhost:8080/",
          "height": 346
        }
      },
      "source": [
        "# Hyperparameters\n",
        "w_init = None                 # number of hidden units\n",
        "w_scale = 10                  # value to divide the w values with\n",
        "n_hid = 100                    # number of hidden units\n",
        "lr = 0.01                     # learning rate\n",
        "n_iters = 500                  # number of iterations / epochs\n",
        "batch = False                   # if true, algo uses batch update.\n",
        "bias = False                   # dont add bias dimension\n",
        "\n",
        "# call backprop to start training our weights\n",
        "w1,w2,accuracies = backprop(X_train,Y_train_OH,n_hid,lr,w_init,w_scale,n_iters,batch,bias)\n",
        "\n",
        "# print highest accuracy and display history\n",
        "epochs = np.arange(1, len(accuracies)+1)\n",
        "plt.plot(epochs, accuracies, c='purple')\n",
        "plt.title('Train Accuracy History')\n",
        "plt.xlabel('Iterations')\n",
        "plt.show()\n",
        "print(f\"Highest Train accuracy => {max(accuracies)}\")\n",
        "\n",
        "# check accuracy on test set\n",
        "test_acc = predict(X_test,Y_test_OH,w1,w2,bias=False,verbose=False,show_all=False)\n",
        "print(f\"Test Accuracy => {test_acc}\")"
      ],
      "execution_count": 11,
      "outputs": [
        {
          "output_type": "stream",
          "text": [
            "100%|██████████| 500/500 [14:26<00:00,  1.73s/it]\n"
          ],
          "name": "stderr"
        },
        {
          "output_type": "display_data",
          "data": {
            "image/png": "[encoded data removed]",
            "text/plain": [
              "<Figure size 432x288 with 1 Axes>"
            ]
          },
          "metadata": {
            "tags": [],
            "needs_background": "light"
          }
        },
        {
          "output_type": "stream",
          "text": [
            "Highest Train accuracy => 0.7353553374962831\n",
            "Test Accuracy => 0.41\n"
          ],
          "name": "stdout"
        }
      ]
    }
  ]
}