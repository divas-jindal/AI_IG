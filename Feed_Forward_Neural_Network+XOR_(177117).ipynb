{
  "nbformat": 4,
  "nbformat_minor": 0,
  "metadata": {
    "kernelspec": {
      "display_name": "Python 3",
      "language": "python",
      "name": "python3"
    },
    "language_info": {
      "codemirror_mode": {
        "name": "ipython",
        "version": 3
      },
      "file_extension": ".py",
      "mimetype": "text/x-python",
      "name": "python",
      "nbconvert_exporter": "python",
      "pygments_lexer": "ipython3",
      "version": "3.6.9"
    },
    "colab": {
      "name": "Feed_Forward_Neural_Network+XOR (177117).ipynb",
      "provenance": [],
      "collapsed_sections": [],
      "toc_visible": true,
      "include_colab_link": true
    },
    "accelerator": "GPU"
  },
  "cells": [
    {
      "cell_type": "markdown",
      "metadata": {
        "id": "view-in-github",
        "colab_type": "text"
      },
      "source": [
        "<a href=\"https://colab.research.google.com/github/divas-jindal/AI_IG/blob/master/Feed_Forward_Neural_Network%2BXOR_(177117).ipynb\" target=\"_parent\"><img src=\"https://colab.research.google.com/assets/colab-badge.svg\" alt=\"Open In Colab\"/></a>"
      ]
    },
    {
      "cell_type": "markdown",
      "metadata": {
        "id": "ZyFJYfgsnVTR"
      },
      "source": [
        "\n",
        "# <center> ML Lab Assignment 3 - Feed Forward Neural Network with Backpropagation"
      ]
    },
    {
      "cell_type": "markdown",
      "metadata": {
        "id": "HMGHpYp555zz"
      },
      "source": [
        "**Submitted by :-**\n",
        "\n",
        "  **Name : Divas Jindal**\n",
        "\n",
        "  **Roll No. : 177117**\n",
        "  \n",
        "  **Class : BTECH 4/4 CSE-A**\n",
        "\n",
        "\n",
        "\n",
        "\n"
      ]
    },
    {
      "cell_type": "markdown",
      "metadata": {
        "id": "vfaCU_eH55z5"
      },
      "source": [
        "### A) Constructing the Neural Network with Back Propagation\n"
      ]
    },
    {
      "cell_type": "code",
      "metadata": {
        "id": "cGJp9Uwg55z1"
      },
      "source": [
        "# importing libraries\n",
        "import numpy as np \n",
        "import pandas as pd \n",
        "import matplotlib.pyplot as plt \n",
        "from tqdm import tqdm"
      ],
      "execution_count": 21,
      "outputs": []
    },
    {
      "cell_type": "markdown",
      "metadata": {
        "id": "pqHydcBc55z5"
      },
      "source": [
        "###### **Activation Function**\n",
        "\n"
      ]
    },
    {
      "cell_type": "code",
      "metadata": {
        "id": "Ka8j2-5955z6"
      },
      "source": [
        "#A function to apply sigmoid actvation function on an input X\n",
        "def sigmoid(z):\n",
        "    return 1 / (1 + np.exp(-z))"
      ],
      "execution_count": 22,
      "outputs": []
    },
    {
      "cell_type": "markdown",
      "metadata": {
        "id": "rji8kxrY55z_"
      },
      "source": [
        "###### **Predict Function**\n"
      ]
    },
    {
      "cell_type": "code",
      "metadata": {
        "id": "r85AGg0X55z_"
      },
      "source": [
        "#This function predicts the the output for given input and weight vectors and hence returns the accuracy\n",
        "def predict(X, y, w1, w2, verbose=True, bias=True,show_all=False):\n",
        "    y_predicted = []\n",
        "    \n",
        "    for xi in X:\n",
        "        h = sigmoid(xi.dot(w1.T))\n",
        "        if (bias):\n",
        "            tmp_h = np.append(np.ones(1), h) \n",
        "        else:\n",
        "            tmp_h = h\n",
        "        op = sigmoid(tmp_h.dot(w2.T))\n",
        "\n",
        "        # store prediction\n",
        "        y_predicted.append(op)\n",
        "    \n",
        "    # Converting Y and y_predicted back from OH format to 1d array\n",
        "    # Prediction is the index with highest value in y_prediction hence using argmax\n",
        "    \n",
        "    y = np.argmax(y, axis=1)\n",
        "    y_predicted = np.argmax(y_predicted, axis=1)\n",
        "                \n",
        "    # For easier debugging, print the labels for all images\n",
        "    if show_all:\n",
        "      for idx,x in enumerate(X):\n",
        "          print(f\"Predicted => {y_predicted[idx]}, Actual => {y[idx]}\")\n",
        "          plt.imshow(x.reshape(28,28))\n",
        "          plt.show()\n",
        "    \n",
        "    # calculate and return accuracy - this is why we had to reconvert back from OH format\n",
        "    acc = np.mean(y_predicted==y)\n",
        "    if (verbose):\n",
        "        print(f\"Accuracy => {acc*100}\")\n",
        "    return acc"
      ],
      "execution_count": 23,
      "outputs": []
    },
    {
      "cell_type": "markdown",
      "metadata": {
        "id": "TL3E97RE550B"
      },
      "source": [
        "###### **Backpropagation Function**\n",
        "A two layer neural network is used with variable number of input, hidden, and output units."
      ]
    },
    {
      "cell_type": "code",
      "metadata": {
        "id": "n45M70s5550C"
      },
      "source": [
        "def backpropagation(X, Y, n_hidden_units,lr = 0.2,w_init=None,w_scale=1,epochs=1,batch=False,bias=True):\n",
        "    if bias:\n",
        "        ones_column = np.ones((X.shape[0],1))\n",
        "        X = np.concatenate((ones_column,X), axis=1)\n",
        "    \n",
        "    if bias:\n",
        "      bias_integer = 1\n",
        "    else:\n",
        "      bias_integer = 0 #if bias is required, we need to add 1 to weight dimension \n",
        "      \n",
        "\n",
        "    #Initialization of weight values\n",
        "    \n",
        "    #if w_init(initial weight values before training) is not specified in function parameters, we randomise the weights to small values\n",
        "    if w_init is not None:\n",
        "        w1 = np.ones((n_hidden_units,X.shape[1])) * w_init\n",
        "        w2 = np.ones((Y.shape[1],n_hidden_units+bias_integer)) * w_init\n",
        "    # Random weight values when w_init not specified\n",
        "    else:\n",
        "        w1 = np.random.uniform(size=(n_hidden_units,X.shape[1])) / w_scale\n",
        "        w2 = np.random.uniform(size=(Y.shape[1],n_hidden_units+bias_integer)) / w_scale\n",
        "            \n",
        "    w1_history_of_weights = []\n",
        "    w2_history_of_weights = []\n",
        "    list_of_accuracies = []\n",
        "    \n",
        "    # Loop over the number of specified epochs\n",
        "    for i in tqdm(range(epochs)):\n",
        "        \n",
        "        # for each training example in the input dataset\n",
        "        for index, (x,y) in enumerate(zip(X,Y)):\n",
        "            # FORWARD PASS\n",
        "            h = sigmoid(x.dot(w1.T))\n",
        "\n",
        "            if bias:\n",
        "                tmp_h = np.append(np.ones(1), h) # Since we do not want to add a bias term to h itself\n",
        "            else:\n",
        "                tmp_h = h\n",
        "            o = sigmoid(tmp_h.dot(w2.T))\n",
        "            \n",
        "            #BACKWARD PASS\n",
        "            do = o*(1-o)*(y-o)\n",
        "            dh = h * (1-h) * do.dot(w2[:,bias_integer:]) # Skip bias dimension if it exists\n",
        "            \n",
        "            ### WEIGHT UPDATIONS\n",
        "            dw2 = lr * do.reshape(-1,1) * tmp_h\n",
        "            dw1 = lr * dh.reshape(-1,1) *(x) \n",
        "\n",
        "            #If batch=true in function parameters, store history : BATCH UPDATE\n",
        "            if batch == True:\n",
        "                w1_history_of_weights.append(dw1)\n",
        "                w2_history_of_weights.append(dw2)\n",
        "            \n",
        "            # If batch=false in function parameters : STOCHASTIC UPDATE\n",
        "            else:\n",
        "                # STOCHASTIC WEIGHT UPDATION\n",
        "                w2 += dw2\n",
        "                w1 += dw1\n",
        "                \n",
        "        # BATCH WEIGHT UPDATION\n",
        "        if batch is True:\n",
        "            w1 += sum(w1_history_of_weights)\n",
        "            w2 += sum(w2_history_of_weights)\n",
        "            \n",
        "        # Check accuracy while training\n",
        "        pre = predict(X,Y,w1,w2,verbose=False,bias=bias)\n",
        "        list_of_accuracies.append(pre)\n",
        "        \n",
        "    return w1, w2, list_of_accuracies"
      ],
      "execution_count": 24,
      "outputs": []
    },
    {
      "cell_type": "markdown",
      "metadata": {
        "id": "FgxR5LCx550H"
      },
      "source": [
        "### B) Handwritten Digit Recognition on MNIST Dataset"
      ]
    },
    {
      "cell_type": "code",
      "metadata": {
        "id": "Ir3o7OOw550I"
      },
      "source": [
        "from tensorflow.python.keras.datasets import mnist\n",
        "\n",
        "#Importing the MNIST dataset\n",
        "(X_train, Y_train), (X_test, Y_test) = mnist.load_data()\n",
        "\n",
        "# Setting the number of training and testing images\n",
        "num_train = 1000\n",
        "num_test = 100\n",
        "\n",
        "# Training data\n",
        "X_train = X_train[:num_train]\n",
        "Y_train = Y_train[:num_train]\n",
        "\n",
        "# Testing data\n",
        "X_test = X_test[:num_test]\n",
        "Y_test = Y_test[:num_test]\n",
        "\n",
        "# One hot encode the y training vectors\n",
        "Y_train_OH = np.zeros((Y_train.size, Y_train.max()+1))\n",
        "Y_train_OH[np.arange(Y_train.size),Y_train] = 1\n",
        "\n",
        "# One hot encode the y testing vectors\n",
        "Y_test_OH = np.zeros((Y_test.size, Y_test.max()+1))\n",
        "Y_test_OH[np.arange(Y_test.size),Y_test] = 1\n",
        "\n",
        "# Flatten X and is normalized to bring the values into [0,1] range\n",
        "X_train = X_train.reshape(X_train.shape[0],-1) / 255\n",
        "X_test = X_test.reshape(X_test.shape[0],-1) / 255"
      ],
      "execution_count": 25,
      "outputs": []
    },
    {
      "cell_type": "markdown",
      "metadata": {
        "id": "PP_9yR9Dkkz8"
      },
      "source": [
        "**Visualizing the images in the MNIST dataset**"
      ]
    },
    {
      "cell_type": "code",
      "metadata": {
        "scrolled": false,
        "id": "-HVa1s7_550K",
        "outputId": "fe4e2bd7-5e28-4910-bedf-beea1ee0c76a",
        "colab": {
          "base_uri": "https://localhost:8080/",
          "height": 482
        }
      },
      "source": [
        "plt.figure(figsize=(8,8))\n",
        "for i in range(16):\n",
        "    plt.subplot(4,4,i+1)\n",
        "    plt.axis('off')\n",
        "    r = np.random.randint(X_train.shape[0])   # get a random image to show\n",
        "    plt.title('True Label: '+str(Y_train[r])) # show its label as title\n",
        "    plt.imshow(X_train[r].reshape(28,28))    # plot the image\n",
        "plt.show()"
      ],
      "execution_count": 26,
      "outputs": [
        {
          "output_type": "display_data",
          "data": {
            "image/png": "[encoded data removed]",
            "text/plain": [
              "<Figure size 576x576 with 16 Axes>"
            ]
          },
          "metadata": {
            "tags": [],
            "needs_background": "light"
          }
        }
      ]
    },
    {
      "cell_type": "markdown",
      "metadata": {
        "id": "IKLoGhoElNbv"
      },
      "source": [
        "**Initializing the input parameters and hyperparameters**"
      ]
    },
    {
      "cell_type": "code",
      "metadata": {
        "scrolled": false,
        "id": "8JMOBakr550M",
        "outputId": "ad69562c-e517-4f56-b7bc-b576f26c2fa8",
        "colab": {
          "base_uri": "https://localhost:8080/"
        }
      },
      "source": [
        "w_scale = 10             # Value to normalize the data with\n",
        "w_init = None                # Initial weight values\n",
        "n_hidden_units = 100         # Number of hidden units in hidden layer\n",
        "lr = 0.01                    # Learning rate\n",
        "epochs = 500                 # Number of epochs\n",
        "batch = False                # If set to true, the algorithm uses batch update, otherwise it uses Stochastic update\n",
        "bias = False\n",
        "\n",
        "\n",
        "w1,w2,list_of_accuracies = backpropagation(X_train,Y_train_OH,n_hidden_units,lr,w_init,w_scale,epochs,batch,bias)\n",
        "\n",
        "\n",
        "\n"
      ],
      "execution_count": 27,
      "outputs": [
        {
          "output_type": "stream",
          "text": [
            "100%|██████████| 500/500 [03:02<00:00,  2.74it/s]\n"
          ],
          "name": "stderr"
        }
      ]
    },
    {
      "cell_type": "markdown",
      "metadata": {
        "id": "tNGynBZyl-qy"
      },
      "source": [
        "**Visualization of Performance**"
      ]
    },
    {
      "cell_type": "code",
      "metadata": {
        "id": "pBAmLbETl95x",
        "outputId": "1e3d206f-2aec-4879-b633-5a1254696f0d",
        "colab": {
          "base_uri": "https://localhost:8080/",
          "height": 329
        }
      },
      "source": [
        "# VISUALIZATION OF PERFORMANCE\n",
        "epochs = np.arange(1, len(list_of_accuracies)+1)\n",
        "plt.plot(epochs, list_of_accuracies, c='red')\n",
        "plt.title('History of Accuracies')\n",
        "plt.xlabel('Epochs')\n",
        "plt.show()\n",
        "print(f\"Maximium Accuracy Achieved : {max(list_of_accuracies)}\")\n",
        "\n",
        "# Check accuracy on Test dataset\n",
        "test_acc = predict(X_test,Y_test_OH,w1,w2,bias=False,verbose=False,show_all=False)\n",
        "print(f\"Test Accuracy => {test_acc}\")\n",
        "\n",
        "\n"
      ],
      "execution_count": 28,
      "outputs": [
        {
          "output_type": "display_data",
          "data": {
            "image/png": "[encoded data removed]",
            "text/plain": [
              "<Figure size 432x288 with 1 Axes>"
            ]
          },
          "metadata": {
            "tags": [],
            "needs_background": "light"
          }
        },
        {
          "output_type": "stream",
          "text": [
            "Maximium Accuracy Achieved : 0.985\n",
            "Test Accuracy => 0.85\n"
          ],
          "name": "stdout"
        }
      ]
    },
    {
      "cell_type": "markdown",
      "metadata": {
        "id": "yfFw0CxqPVPQ"
      },
      "source": [
        "### C) Handwritten Character Recognition on EMNIST Dataset\n",
        "\n",
        "###### **Dataset Used -  Characters from EMNIST Dataset** \n",
        "\n",
        "\n",
        "The EMNIST dataset is loaded from CSV files. \n",
        "\n",
        "1. CSV files have been significantly reduced. \n",
        "\n",
        "2. First column - Y values \n",
        "3. Rest columns -  image. \n",
        "4. EMNIST images are rotated (data augmentation) so the images here may not look exactly like the corresponding letter from all angles."
      ]
    },
    {
      "cell_type": "code",
      "metadata": {
        "id": "cJHaPYAYRNYu"
      },
      "source": [
        "# Using a pandas dataframe and converting it into a numpy array\n",
        "train = pd.read_csv(\"emnist_letters_train_dataset.csv\").to_numpy()\n",
        "test = pd.read_csv(\"emnist_letters_test_dataset.csv\").to_numpy()\n",
        "\n",
        "# Getting the Xs and Ys\n",
        "Y_train = train[:,0]\n",
        "X_train = train[:,1:]\n",
        "Y_test = test[:,0]\n",
        "X_test = test[:,1:]\n",
        "\n",
        "# Convert y vectors to one hot vectors for our network to work\n",
        "Y_train_OH = np.zeros((Y_train.size, Y_train.max()+1))\n",
        "Y_train_OH[np.arange(Y_train.size),Y_train] = 1\n",
        "\n",
        "Y_test_OH = np.zeros((Y_test.size, Y_test.max()+1))\n",
        "Y_test_OH[np.arange(Y_test.size),Y_test] = 1\n",
        "\n",
        "# flatten X and bring into [0,1] range\n",
        "X_train = X_train.reshape(X_train.shape[0],-1) / 255\n",
        "X_test = X_test.reshape(X_test.shape[0],-1) / 255"
      ],
      "execution_count": 29,
      "outputs": []
    },
    {
      "cell_type": "markdown",
      "metadata": {
        "id": "Kml2Nt3KR6Zj"
      },
      "source": [
        "**Visualizing the images in the EMNIST dataset**"
      ]
    },
    {
      "cell_type": "code",
      "metadata": {
        "id": "ZZ4b7mqFR5io",
        "outputId": "e7556281-7602-464e-b571-832876338792",
        "colab": {
          "base_uri": "https://localhost:8080/",
          "height": 482
        }
      },
      "source": [
        "plt.figure(figsize=(8,8))\n",
        "for i in range(16):\n",
        "    plt.subplot(4,4,i+1)\n",
        "    plt.axis('off')\n",
        "    r = np.random.randint(X_train.shape[0])   # get a random image to show\n",
        "    plt.title('True Label: '+chr(64 + Y_train[r]) + '('+str(Y_train[r])+')') # show its label as title\n",
        "    plt.imshow(X_train[r].reshape(28,28))    # plot the image\n",
        "plt.show()"
      ],
      "execution_count": 30,
      "outputs": [
        {
          "output_type": "display_data",
          "data": {
            "image/png": "[encoded data removed]",
            "text/plain": [
              "<Figure size 576x576 with 16 Axes>"
            ]
          },
          "metadata": {
            "tags": [],
            "needs_background": "light"
          }
        }
      ]
    },
    {
      "cell_type": "markdown",
      "metadata": {
        "id": "_vHTpHrgSPm3"
      },
      "source": [
        "**Initializing the input parameters and hyperparameters**"
      ]
    },
    {
      "cell_type": "code",
      "metadata": {
        "id": "ap_CRMuPSDsT",
        "outputId": "506a262e-0ea3-4ae5-e69d-6af1bf05034c",
        "colab": {
          "base_uri": "https://localhost:8080/"
        }
      },
      "source": [
        "w_scale = 10                 # Value to normalize the data with\n",
        "w_init = None                # Initial weight values\n",
        "n_hidden_units = 100         # Number of hidden units in hidden layer\n",
        "lr = 0.01                    # Learning rate\n",
        "epochs = 500                 # Number of epochs\n",
        "batch = False                # If set to true, the algorithm uses batch update, otherwise it uses Stochastic update\n",
        "bias = False\n",
        "\n",
        "\n",
        "w1,w2,list_of_accuracies = backpropagation(X_train,Y_train_OH,n_hidden_units,lr,w_init,w_scale,epochs,batch,bias)\n",
        "\n",
        "\n",
        "\n"
      ],
      "execution_count": 31,
      "outputs": [
        {
          "output_type": "stream",
          "text": [
            "100%|██████████| 500/500 [12:27<00:00,  1.49s/it]\n"
          ],
          "name": "stderr"
        }
      ]
    },
    {
      "cell_type": "markdown",
      "metadata": {
        "id": "erbesnXISagx"
      },
      "source": [
        "**Visualization of Performance**"
      ]
    },
    {
      "cell_type": "code",
      "metadata": {
        "id": "G51z8N9xSbe8",
        "outputId": "11db5bb4-5428-4e1f-dda1-9f7d150d47e8",
        "colab": {
          "base_uri": "https://localhost:8080/",
          "height": 329
        }
      },
      "source": [
        "# VISUALIZATION OF PERFORMANCE\n",
        "epochs = np.arange(1, len(list_of_accuracies)+1)\n",
        "plt.plot(epochs, list_of_accuracies, c='red')\n",
        "plt.title('History of Accuracies')\n",
        "plt.xlabel('Epochs')\n",
        "plt.show()\n",
        "print(f\"Maximium Accuracy Achieved : {max(list_of_accuracies)}\")\n",
        "\n",
        "# Check accuracy on Test dataset\n",
        "test_acc = predict(X_test,Y_test_OH,w1,w2,bias=False,verbose=False,show_all=False)\n",
        "print(f\"Test Accuracy => {test_acc}\")\n",
        "\n",
        "\n"
      ],
      "execution_count": 32,
      "outputs": [
        {
          "output_type": "display_data",
          "data": {
            "image/png": "[encoded data removed]",
            "text/plain": [
              "<Figure size 432x288 with 1 Axes>"
            ]
          },
          "metadata": {
            "tags": [],
            "needs_background": "light"
          }
        },
        {
          "output_type": "stream",
          "text": [
            "Maximium Accuracy Achieved : 0.7130538209931608\n",
            "Test Accuracy => 0.34863064396743154\n"
          ],
          "name": "stdout"
        }
      ]
    },
    {
      "cell_type": "markdown",
      "metadata": {
        "id": "766l4010550E"
      },
      "source": [
        "### D) Running the Model on XOR Dataset\n",
        "\n"
      ]
    },
    {
      "cell_type": "markdown",
      "metadata": {
        "id": "9isTVhd3UumD"
      },
      "source": [
        "**Initializing the input parameters and hyperparameters**"
      ]
    },
    {
      "cell_type": "code",
      "metadata": {
        "id": "QrrCduAc550F",
        "outputId": "2e52c8a1-be27-4a61-c467-f96f4c31e98d",
        "colab": {
          "base_uri": "https://localhost:8080/"
        }
      },
      "source": [
        "w_scale = 1                  # Value to normalize the data with\n",
        "w_init = None                # Initial weight values\n",
        "n_hidden_units = 2           # Number of hidden units in hidden layer\n",
        "lr = 0.1                     # Learning rate\n",
        "epochs = 10000               # Number of epochs\n",
        "batch = False                # If set to true, the algorithm uses batch update, otherwise it uses Stochastic update\n",
        "dataset = np.asarray([[0,0,0], #Dataset (Truth Table)\n",
        "                [0,1,1], \n",
        "                [1,0,1],\n",
        "                [1,1,0]])\n",
        "\n",
        "# Getting X and y from the above dataset\n",
        "X = dataset[:,:2]\n",
        "y = dataset[:,2:]\n",
        "\n",
        "\n",
        "#Convert y to one hot encoding (for the network to be general for any number of output units)\n",
        "y_OH = np.zeros((y.size, y.max()+1))\n",
        "y_OH[np.arange(y.size),y.reshape(-1)] = 1\n",
        "\n",
        "\n",
        "# Invoking the backpropagation function.\n",
        "w1,w2,list_of_accuracies = backpropagation(X,y_OH,n_hidden_units,lr,w_init,w_scale,epochs,batch)\n",
        "\n",
        "\n"
      ],
      "execution_count": 33,
      "outputs": [
        {
          "output_type": "stream",
          "text": [
            "100%|██████████| 10000/10000 [00:02<00:00, 4017.03it/s]\n"
          ],
          "name": "stderr"
        }
      ]
    },
    {
      "cell_type": "markdown",
      "metadata": {
        "id": "epGWd65-h54d"
      },
      "source": [
        "**Visualization of Performance**"
      ]
    },
    {
      "cell_type": "code",
      "metadata": {
        "id": "64vfvuADiAMk",
        "outputId": "ead36802-cde7-4cb5-fdb7-a7788e20f96e",
        "colab": {
          "base_uri": "https://localhost:8080/",
          "height": 363
        }
      },
      "source": [
        "# VISUALIZATION OF PERFORMANCE OF THE MODEL\n",
        "epochs = np.arange(1, len(list_of_accuracies)+1)\n",
        "plt.plot(epochs, list_of_accuracies, c='red')\n",
        "plt.title('History of Accuracies')\n",
        "plt.xlabel('Epochs')\n",
        "plt.show()\n",
        "print(f\"Maximium Accuracy Achieved : {max(list_of_accuracies)}\")\n",
        "\n",
        "print(w1,w2)"
      ],
      "execution_count": 34,
      "outputs": [
        {
          "output_type": "display_data",
          "data": {
            "image/png": "[encoded data removed]",
            "text/plain": [
              "<Figure size 432x288 with 1 Axes>"
            ]
          },
          "metadata": {
            "tags": [],
            "needs_background": "light"
          }
        },
        {
          "output_type": "stream",
          "text": [
            "Maximium Accuracy Achieved : 1.0\n",
            "[[-2.94711226  6.65476437  6.63583169]\n",
            " [-7.18975263  4.69670941  4.69201283]] [[ 3.24775687 -7.04399292  7.55758071]\n",
            " [-3.25798629  7.06567465 -7.58051364]]\n"
          ],
          "name": "stdout"
        }
      ]
    }
  ]
}