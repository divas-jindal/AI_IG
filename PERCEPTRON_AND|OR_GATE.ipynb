{
  "nbformat": 4,
  "nbformat_minor": 0,
  "metadata": {
    "colab": {
      "name": "PERCEPTRON_AND|OR-GATE.ipynb",
      "provenance": [],
      "collapsed_sections": [],
      "include_colab_link": true
    },
    "kernelspec": {
      "name": "python3",
      "display_name": "Python 3"
    }
  },
  "cells": [
    {
      "cell_type": "markdown",
      "metadata": {
        "id": "view-in-github",
        "colab_type": "text"
      },
      "source": [
        "<a href=\"https://colab.research.google.com/github/divas-jindal/AI_IG/blob/master/PERCEPTRON_AND%7COR_GATE.ipynb\" target=\"_parent\"><img src=\"https://colab.research.google.com/assets/colab-badge.svg\" alt=\"Open In Colab\"/></a>"
      ]
    },
    {
      "cell_type": "markdown",
      "metadata": {
        "id": "TrH-mT91fs27",
        "colab_type": "text"
      },
      "source": [
        "# PERCEPTRON AS AN AND GATE\n",
        "For Implementing AND/OR Gate using Perceptron, we implement following steps:\n",
        "\n",
        "\n",
        "---\n",
        "\n",
        ">   \n",
        "      Initialize the weights and bias value, here we used bias as weights [0] For n epochs, \n",
        "        { \n",
        "            For each input value in dataset \n",
        "            {\n",
        "              Find weighted sum using dot product of weights and \n",
        "              input values Weighted sum = w1x1 + w2x2 + bias \n",
        "              Classify the output with the help of activation function, \n",
        "              Predicted value= 1 if weighted sum>0, else value = 0 \n",
        "              For every weight w = w + learning rate* (target value-predicted value) *input \n",
        "              bias = bias + learning rate*(target value - predicted value) \n",
        "          }\n",
        "      } \n",
        "\n",
        "Here, the logic for AND/OR Gate is same, only the target values will change, \n",
        "If you want to implement AND Gate, enter target values “0 0 0 1” as user \n",
        "input and to implement OR Gate, enter target values “0 1 1 1” as user \n",
        "input. \n",
        "  \n",
        "We initialized the weights and bias as 0, and for 100 epochs, we update the \n",
        "weights after training the model and verify the output for these values of weights. \n",
        "\n",
        "Here, I had attached the code for perceptron of AND/OR gate."
      ]
    },
    {
      "cell_type": "markdown",
      "metadata": {
        "id": "9OjESboYkr2n",
        "colab_type": "text"
      },
      "source": [
        "# PERCEPTRON AS AN AND GATE"
      ]
    },
    {
      "cell_type": "code",
      "metadata": {
        "id": "cXjcg_qPAMI4",
        "colab_type": "code",
        "colab": {}
      },
      "source": [
        "\n",
        "import numpy as np"
      ],
      "execution_count": 37,
      "outputs": []
    },
    {
      "cell_type": "code",
      "metadata": {
        "id": "fAOHsPmqE2eL",
        "colab_type": "code",
        "colab": {}
      },
      "source": [
        "'''\n",
        "Predict the ouput if sum(wi.xi)>0\n",
        "then return 1\n",
        "else return 0\n",
        "'''\n",
        "def predict(weights, inputs):\n",
        "    summation = np.dot(inputs, weights[1:]) + weights[0]\n",
        "    output = 0\n",
        "    if summation > 0:\n",
        "      output = 1           \n",
        "    return output"
      ],
      "execution_count": 38,
      "outputs": []
    },
    {
      "cell_type": "code",
      "metadata": {
        "id": "KbbXI3IPE5zV",
        "colab_type": "code",
        "colab": {}
      },
      "source": [
        "'''\n",
        "Train the model with give set of epochs and run on each given set of inputs \n",
        "Will Update the weights accordingly\n",
        "'''\n",
        "def train(weights,inputs, labels, learning_rate, epochs):\n",
        "    for i in range(epochs):\n",
        "        for j in range(len(inputs)):\n",
        "            prediction = predict(weights,inputs[j])\n",
        "            weights[1:] += learning_rate * (labels[j] - prediction) * inputs[j]\n",
        "            weights[0] += learning_rate * (labels[j] - prediction)"
      ],
      "execution_count": 39,
      "outputs": []
    },
    {
      "cell_type": "code",
      "metadata": {
        "id": "DwH8MAqJCZfy",
        "colab_type": "code",
        "colab": {
          "base_uri": "https://localhost:8080/",
          "height": 177
        },
        "outputId": "a4218f46-b26d-47a8-8ba2-57615a3f39d8"
      },
      "source": [
        "'''\n",
        "Inputs are taken here into a numpy arrays\n",
        "'''\n",
        "inputs = []\n",
        "inputs.append(np.array([1, 1]))\n",
        "inputs.append(np.array([1, 0]))\n",
        "inputs.append(np.array([0, 1]))\n",
        "inputs.append(np.array([0, 0]))\n",
        "\n",
        "labels = np.array([1, 0, 0, 0])\n",
        "no_of_inputs=2\n",
        "weights = np.zeros(no_of_inputs + 1)\n",
        "\n",
        "learning_rate=0.2\n",
        "epochs=100\n",
        "\n",
        "'''\n",
        "Model training \n",
        "'''\n",
        "train(weights,inputs, labels, learning_rate, epochs)\n",
        "\n",
        "'''\n",
        "Updated weights\n",
        "'''\n",
        "print(\"WEIGHTS : \", weights)\n",
        "\n",
        "'''\n",
        "Predicted value for each input \n",
        "'''\n",
        "for i in range (len(inputs)):\n",
        "  print(\"INPUT: \", inputs[i])\n",
        "  res = predict(weights, inputs[i])\n",
        "  print(\"PREDICT OUTPUT: \" + str(res))\n"
      ],
      "execution_count": 40,
      "outputs": [
        {
          "output_type": "stream",
          "text": [
            "WEIGHTS :  [-0.4  0.2  0.4]\n",
            "INPUT:  [1 1]\n",
            "PREDICT OUTPUT: 1\n",
            "INPUT:  [1 0]\n",
            "PREDICT OUTPUT: 0\n",
            "INPUT:  [0 1]\n",
            "PREDICT OUTPUT: 0\n",
            "INPUT:  [0 0]\n",
            "PREDICT OUTPUT: 0\n"
          ],
          "name": "stdout"
        }
      ]
    },
    {
      "cell_type": "markdown",
      "metadata": {
        "id": "DUSW6-pxkiEe",
        "colab_type": "text"
      },
      "source": [
        "# PERCEPTRON AS AN OR GATE"
      ]
    },
    {
      "cell_type": "code",
      "metadata": {
        "id": "OO8IA7Jy-63Y",
        "colab_type": "code",
        "colab": {}
      },
      "source": [
        "\n",
        "import numpy as np"
      ],
      "execution_count": 41,
      "outputs": []
    },
    {
      "cell_type": "code",
      "metadata": {
        "id": "MN_dXUluK2EZ",
        "colab_type": "code",
        "colab": {}
      },
      "source": [
        "'''\n",
        "Predict the ouput if sum(wi.xi)>0\n",
        "then return 1\n",
        "else return 0\n",
        "'''\n",
        "def predict(weights, inputs):\n",
        "    summation = np.dot(inputs, weights[1:]) + weights[0]\n",
        "    output = 0\n",
        "    if summation > 0:\n",
        "      output = 1           \n",
        "    return output"
      ],
      "execution_count": 42,
      "outputs": []
    },
    {
      "cell_type": "code",
      "metadata": {
        "id": "zTQxDEXSK6_E",
        "colab_type": "code",
        "colab": {}
      },
      "source": [
        "'''\n",
        "Train the model with give set of epochs and run on each given set of inputs \n",
        "Will Update the weights accordingly\n",
        "'''\n",
        "def train(weights,inputs, labels, learning_rate, epochs):\n",
        "    for i in range(epochs):\n",
        "        for j in range(len(inputs)):\n",
        "            prediction = predict(weights,inputs[j])\n",
        "            weights[1:] += learning_rate * (labels[j] - prediction) * inputs[j]\n",
        "            weights[0] += learning_rate * (labels[j] - prediction)"
      ],
      "execution_count": 43,
      "outputs": []
    },
    {
      "cell_type": "code",
      "metadata": {
        "id": "dl3spfIRKocX",
        "colab_type": "code",
        "colab": {
          "base_uri": "https://localhost:8080/",
          "height": 177
        },
        "outputId": "9011791a-ef91-4c21-f4fd-e41496cb6fa4"
      },
      "source": [
        "'''\n",
        "Inputs are taken here into a numpy arrays\n",
        "'''\n",
        "inputs = []\n",
        "inputs.append(np.array([1, 1]))\n",
        "inputs.append(np.array([1, 0]))\n",
        "inputs.append(np.array([0, 1]))\n",
        "inputs.append(np.array([0, 0]))\n",
        "\n",
        "labels = np.array([1, 1, 1, 0])\n",
        "no_of_inputs=2\n",
        "weights = np.zeros(no_of_inputs + 1)\n",
        "\n",
        "learning_rate=0.2\n",
        "epochs=100\n",
        "\n",
        "'''\n",
        "Model training \n",
        "'''\n",
        "train(weights,inputs, labels, learning_rate, epochs)\n",
        "\n",
        "'''\n",
        "Updated weights\n",
        "'''\n",
        "print(\"WEIGHTS : \", weights)\n",
        "\n",
        "'''\n",
        "Predicted value for each input \n",
        "'''\n",
        "for i in range (len(inputs)):\n",
        "  print(\"INPUT: \", inputs[i])\n",
        "  res = predict(weights, inputs[i])\n",
        "  print(\"PREDICT OUTPUT: \" + str(res))"
      ],
      "execution_count": 44,
      "outputs": [
        {
          "output_type": "stream",
          "text": [
            "WEIGHTS :  [0.  0.2 0.2]\n",
            "INPUT:  [1 1]\n",
            "PREDICT OUTPUT: 1\n",
            "INPUT:  [1 0]\n",
            "PREDICT OUTPUT: 1\n",
            "INPUT:  [0 1]\n",
            "PREDICT OUTPUT: 1\n",
            "INPUT:  [0 0]\n",
            "PREDICT OUTPUT: 0\n"
          ],
          "name": "stdout"
        }
      ]
    }
  ]
}